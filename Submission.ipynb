{
 "cells": [
  {
   "cell_type": "code",
   "execution_count": 1,
   "id": "806b305b",
   "metadata": {},
   "outputs": [],
   "source": [
    "import mysql.connector as c"
   ]
  },
  {
   "cell_type": "code",
   "execution_count": 2,
   "id": "1e50d77f",
   "metadata": {},
   "outputs": [],
   "source": [
    "import pandas as pd"
   ]
  },
  {
   "cell_type": "code",
   "execution_count": 3,
   "id": "2f3a232f",
   "metadata": {},
   "outputs": [],
   "source": [
    "connection = c.connect(host= \"localhost\",user= \"root\", database = \"multi_spe_hospital\")"
   ]
  },
  {
   "cell_type": "code",
   "execution_count": 4,
   "id": "d36ffb47",
   "metadata": {},
   "outputs": [],
   "source": [
    "cursor = connection.cursor()"
   ]
  },
  {
   "cell_type": "code",
   "execution_count": 5,
   "id": "1c96e140",
   "metadata": {},
   "outputs": [],
   "source": [
    "query2 = \"select * from patients\""
   ]
  },
  {
   "cell_type": "code",
   "execution_count": 6,
   "id": "7a510c42",
   "metadata": {},
   "outputs": [],
   "source": [
    "# executing cursor\n",
    "cursor.execute(query2)"
   ]
  },
  {
   "cell_type": "code",
   "execution_count": 7,
   "id": "591b93c6",
   "metadata": {},
   "outputs": [
    {
     "name": "stdout",
     "output_type": "stream",
     "text": [
      "Total Number of rows in table: 5\n"
     ]
    }
   ],
   "source": [
    "# fetching tables\n",
    "table_rows = cursor.fetchall()\n",
    "print(\"Total Number of rows in table:\", cursor.rowcount)"
   ]
  },
  {
   "cell_type": "code",
   "execution_count": 8,
   "id": "34472d95",
   "metadata": {},
   "outputs": [],
   "source": [
    "df = pd.read_sql('SELECT * FROM patients', con=connection)  # fitting into pandas dataframe\n",
    "df.set_index(['CUSTOMER_ID'], inplace=True)  # setting default index"
   ]
  },
  {
   "cell_type": "code",
   "execution_count": 9,
   "id": "f48c904b",
   "metadata": {
    "scrolled": true
   },
   "outputs": [
    {
     "data": {
      "text/html": [
       "<div>\n",
       "<style scoped>\n",
       "    .dataframe tbody tr th:only-of-type {\n",
       "        vertical-align: middle;\n",
       "    }\n",
       "\n",
       "    .dataframe tbody tr th {\n",
       "        vertical-align: top;\n",
       "    }\n",
       "\n",
       "    .dataframe thead th {\n",
       "        text-align: right;\n",
       "    }\n",
       "</style>\n",
       "<table border=\"1\" class=\"dataframe\">\n",
       "  <thead>\n",
       "    <tr style=\"text-align: right;\">\n",
       "      <th></th>\n",
       "      <th>CUSTOMER_NAME</th>\n",
       "      <th>CUSTOMER_OPEN_DATE</th>\n",
       "      <th>LAST_CONSULTED_DATE</th>\n",
       "      <th>VACCINATION_TYPE</th>\n",
       "      <th>DOCTOR_CONSULTED</th>\n",
       "      <th>STATE</th>\n",
       "      <th>COUNTRY</th>\n",
       "      <th>DOB</th>\n",
       "      <th>FLAG</th>\n",
       "    </tr>\n",
       "    <tr>\n",
       "      <th>CUSTOMER_ID</th>\n",
       "      <th></th>\n",
       "      <th></th>\n",
       "      <th></th>\n",
       "      <th></th>\n",
       "      <th></th>\n",
       "      <th></th>\n",
       "      <th></th>\n",
       "      <th></th>\n",
       "      <th></th>\n",
       "    </tr>\n",
       "  </thead>\n",
       "  <tbody>\n",
       "    <tr>\n",
       "      <th>123457</th>\n",
       "      <td>Alex</td>\n",
       "      <td>2010-10-12</td>\n",
       "      <td>2012-10-13</td>\n",
       "      <td>MVD</td>\n",
       "      <td>Paul</td>\n",
       "      <td>SA</td>\n",
       "      <td>USA</td>\n",
       "      <td>1987-03-06</td>\n",
       "      <td>A</td>\n",
       "    </tr>\n",
       "    <tr>\n",
       "      <th>1256</th>\n",
       "      <td>Jacob</td>\n",
       "      <td>2010-10-12</td>\n",
       "      <td>2012-10-13</td>\n",
       "      <td>MVD</td>\n",
       "      <td></td>\n",
       "      <td>VIC</td>\n",
       "      <td>AU</td>\n",
       "      <td>1987-03-06</td>\n",
       "      <td>A</td>\n",
       "    </tr>\n",
       "    <tr>\n",
       "      <th>123458</th>\n",
       "      <td>John</td>\n",
       "      <td>2010-10-12</td>\n",
       "      <td>2012-10-13</td>\n",
       "      <td>MVD</td>\n",
       "      <td></td>\n",
       "      <td>TN</td>\n",
       "      <td>IND</td>\n",
       "      <td>1987-03-06</td>\n",
       "      <td>A</td>\n",
       "    </tr>\n",
       "    <tr>\n",
       "      <th>123459</th>\n",
       "      <td>Mathew</td>\n",
       "      <td>2010-10-12</td>\n",
       "      <td>2012-10-13</td>\n",
       "      <td>MVD</td>\n",
       "      <td></td>\n",
       "      <td>WAS</td>\n",
       "      <td>PHIL</td>\n",
       "      <td>1987-03-06</td>\n",
       "      <td>A</td>\n",
       "    </tr>\n",
       "    <tr>\n",
       "      <th>12345</th>\n",
       "      <td>Matt</td>\n",
       "      <td>2010-10-12</td>\n",
       "      <td>2012-10-13</td>\n",
       "      <td>MVD</td>\n",
       "      <td></td>\n",
       "      <td>BOS</td>\n",
       "      <td>NYC</td>\n",
       "      <td>1987-03-06</td>\n",
       "      <td>A</td>\n",
       "    </tr>\n",
       "  </tbody>\n",
       "</table>\n",
       "</div>"
      ],
      "text/plain": [
       "            CUSTOMER_NAME CUSTOMER_OPEN_DATE LAST_CONSULTED_DATE  \\\n",
       "CUSTOMER_ID                                                        \n",
       "123457               Alex         2010-10-12          2012-10-13   \n",
       "1256                Jacob         2010-10-12          2012-10-13   \n",
       "123458               John         2010-10-12          2012-10-13   \n",
       "123459             Mathew         2010-10-12          2012-10-13   \n",
       "12345                Matt         2010-10-12          2012-10-13   \n",
       "\n",
       "            VACCINATION_TYPE DOCTOR_CONSULTED STATE COUNTRY         DOB FLAG  \n",
       "CUSTOMER_ID                                                                   \n",
       "123457                   MVD             Paul    SA     USA  1987-03-06    A  \n",
       "1256                     MVD                    VIC      AU  1987-03-06    A  \n",
       "123458                   MVD                     TN     IND  1987-03-06    A  \n",
       "123459                   MVD                    WAS    PHIL  1987-03-06    A  \n",
       "12345                    MVD                    BOS     NYC  1987-03-06    A  "
      ]
     },
     "execution_count": 9,
     "metadata": {},
     "output_type": "execute_result"
    }
   ],
   "source": [
    "df"
   ]
  },
  {
   "cell_type": "code",
   "execution_count": 10,
   "id": "1c2b36b5",
   "metadata": {},
   "outputs": [],
   "source": [
    "def show_data(country):\n",
    "    data = df.loc[df['COUNTRY'] == country]\n",
    "    print(data)"
   ]
  },
  {
   "cell_type": "code",
   "execution_count": 11,
   "id": "21c4c7c8",
   "metadata": {},
   "outputs": [],
   "source": [
    "def get_file(country):\n",
    "    data = df.loc[df['COUNTRY'] == country]\n",
    "    file_name = str(country)\n",
    "    data.to_csv('C:/Users/prate/Table_' + country + \".csv\")  # replace path with your desired path\n",
    "    print(\"File has been created to the specified path\")"
   ]
  },
  {
   "cell_type": "code",
   "execution_count": 12,
   "id": "b5e80c79",
   "metadata": {
    "scrolled": true
   },
   "outputs": [
    {
     "name": "stdout",
     "output_type": "stream",
     "text": [
      "            CUSTOMER_NAME CUSTOMER_OPEN_DATE LAST_CONSULTED_DATE  \\\n",
      "CUSTOMER_ID                                                        \n",
      "123458               John         2010-10-12          2012-10-13   \n",
      "\n",
      "            VACCINATION_TYPE DOCTOR_CONSULTED STATE COUNTRY         DOB FLAG  \n",
      "CUSTOMER_ID                                                                   \n",
      "123458                   MVD                     TN     IND  1987-03-06    A  \n",
      "File has been created to the specified path\n"
     ]
    }
   ],
   "source": [
    "# calling functions\n",
    "\n",
    "df1= show_data(\"IND\")\n",
    "get_file(\"IND\")"
   ]
  },
  {
   "cell_type": "code",
   "execution_count": 13,
   "id": "d1791e9e",
   "metadata": {},
   "outputs": [
    {
     "name": "stdout",
     "output_type": "stream",
     "text": [
      "            CUSTOMER_NAME CUSTOMER_OPEN_DATE LAST_CONSULTED_DATE  \\\n",
      "CUSTOMER_ID                                                        \n",
      "12345                Matt         2010-10-12          2012-10-13   \n",
      "\n",
      "            VACCINATION_TYPE DOCTOR_CONSULTED STATE COUNTRY         DOB FLAG  \n",
      "CUSTOMER_ID                                                                   \n",
      "12345                    MVD                    BOS     NYC  1987-03-06    A  \n",
      "File has been created to the specified path\n"
     ]
    }
   ],
   "source": [
    "show_data(\"NYC\")\n",
    "get_file(\"NYC\")"
   ]
  },
  {
   "cell_type": "code",
   "execution_count": 14,
   "id": "c6069c7a",
   "metadata": {},
   "outputs": [
    {
     "name": "stdout",
     "output_type": "stream",
     "text": [
      "            CUSTOMER_NAME CUSTOMER_OPEN_DATE LAST_CONSULTED_DATE  \\\n",
      "CUSTOMER_ID                                                        \n",
      "123457               Alex         2010-10-12          2012-10-13   \n",
      "\n",
      "            VACCINATION_TYPE DOCTOR_CONSULTED STATE COUNTRY         DOB FLAG  \n",
      "CUSTOMER_ID                                                                   \n",
      "123457                   MVD             Paul    SA     USA  1987-03-06    A  \n",
      "File has been created to the specified path\n"
     ]
    }
   ],
   "source": [
    "show_data(\"USA\")\n",
    "get_file(\"USA\")"
   ]
  },
  {
   "cell_type": "code",
   "execution_count": 15,
   "id": "21620de7",
   "metadata": {},
   "outputs": [
    {
     "name": "stdout",
     "output_type": "stream",
     "text": [
      "            CUSTOMER_NAME CUSTOMER_OPEN_DATE LAST_CONSULTED_DATE  \\\n",
      "CUSTOMER_ID                                                        \n",
      "123459             Mathew         2010-10-12          2012-10-13   \n",
      "\n",
      "            VACCINATION_TYPE DOCTOR_CONSULTED STATE COUNTRY         DOB FLAG  \n",
      "CUSTOMER_ID                                                                   \n",
      "123459                   MVD                    WAS    PHIL  1987-03-06    A  \n",
      "File has been created to the specified path\n"
     ]
    }
   ],
   "source": [
    "show_data(\"PHIL\")\n",
    "get_file(\"PHIL\")"
   ]
  },
  {
   "cell_type": "code",
   "execution_count": 16,
   "id": "85543846",
   "metadata": {},
   "outputs": [
    {
     "name": "stdout",
     "output_type": "stream",
     "text": [
      "            CUSTOMER_NAME CUSTOMER_OPEN_DATE LAST_CONSULTED_DATE  \\\n",
      "CUSTOMER_ID                                                        \n",
      "1256                Jacob         2010-10-12          2012-10-13   \n",
      "\n",
      "            VACCINATION_TYPE DOCTOR_CONSULTED STATE COUNTRY         DOB FLAG  \n",
      "CUSTOMER_ID                                                                   \n",
      "1256                     MVD                    VIC      AU  1987-03-06    A  \n",
      "File has been created to the specified path\n"
     ]
    }
   ],
   "source": [
    "show_data(\"AU\")\n",
    "get_file(\"AU\")"
   ]
  }
 ],
 "metadata": {
  "kernelspec": {
   "display_name": "Python 3 (ipykernel)",
   "language": "python",
   "name": "python3"
  },
  "language_info": {
   "codemirror_mode": {
    "name": "ipython",
    "version": 3
   },
   "file_extension": ".py",
   "mimetype": "text/x-python",
   "name": "python",
   "nbconvert_exporter": "python",
   "pygments_lexer": "ipython3",
   "version": "3.8.8"
  }
 },
 "nbformat": 4,
 "nbformat_minor": 5
}
